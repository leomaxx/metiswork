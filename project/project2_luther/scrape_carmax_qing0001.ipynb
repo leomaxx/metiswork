{
 "cells": [
  {
   "cell_type": "markdown",
   "metadata": {},
   "source": [
    "# Use selenium to scrape carmax.com"
   ]
  },
  {
   "cell_type": "code",
   "execution_count": 633,
   "metadata": {},
   "outputs": [],
   "source": [
    "from selenium import webdriver\n",
    "from selenium.webdriver.common.keys import Keys\n",
    "from selenium.webdriver.support.ui import Select\n",
    "from bs4 import BeautifulSoup\n",
    "\n",
    "import time\n",
    "import os\n",
    "import numpy as np\n",
    "import pandas as pd\n",
    "import timeit\n",
    "import pickle\n",
    "\n",
    "chromedriver = \"/Applications/chromedriver\" # path to the chromedriver executable\n",
    "os.environ[\"webdriver.chrome.driver\"] = chromedriver"
   ]
  },
  {
   "cell_type": "markdown",
   "metadata": {},
   "source": [
    "### Scape the list of URLs"
   ]
  },
  {
   "cell_type": "code",
   "execution_count": 635,
   "metadata": {},
   "outputs": [],
   "source": [
    "driver = webdriver.Chrome(chromedriver)\n",
    "SearchURL = \"https://www.carmax.com/search\"\n",
    "driver.get(SearchURL)\n",
    "time.sleep(1);\n",
    "link_lists = []\n",
    "endofresult = False"
   ]
  },
  {
   "cell_type": "markdown",
   "metadata": {},
   "source": [
    "max_value = driver.find_element_by_xpath('//div[@data-max-price=\"100000\"]')\n",
    "time.sleep(1)\n",
    "max_value.send_keys(Keys.DOWN)\n",
    "time.sleep(0.5)\n",
    "max_value.send_keys(Keys.DOWN)\n",
    "time.sleep(0.5)\n",
    "max_value.send_keys(Keys.DOWN)\n",
    "max_value.send_keys(Keys.RETURN)"
   ]
  },
  {
   "cell_type": "code",
   "execution_count": 636,
   "metadata": {},
   "outputs": [
    {
     "name": "stdout",
     "output_type": "stream",
     "text": [
      "This is the end of search result!\n"
     ]
    }
   ],
   "source": [
    "while(endofresult == False):\n",
    "    try:\n",
    "        driver.find_element_by_css_selector(\".pagination--next-disable\")\n",
    "        endofresult = True\n",
    "        print (\"This is the end of search result!\")\n",
    "        with open(\"URL_Links_All.pkl\".format(count), 'wb') as picklefile: # b means binary\n",
    "            pickle.dump(link_lists, picklefile)\n",
    "    except Exception as e:\n",
    "        next_element = driver.find_element_by_class_name(\"pagination--next\")\n",
    "        next_element.click()\n",
    "        time.sleep(3)\n",
    "        link_elements = driver.find_elements_by_xpath('//h3[@class=\"vehicle-browse--result-title\"]/a')\n",
    "        link_lists = link_lists + [element.get_attribute('href') for element in link_elements]\n",
    "        count = len(link_lists)\n",
    "        if (count % 100 == 0):\n",
    "            with open(\"URL_Links_{}.pkl\".format(count), 'wb') as picklefile: # b means binary\n",
    "                pickle.dump(link_lists, picklefile)"
   ]
  },
  {
   "cell_type": "markdown",
   "metadata": {},
   "source": [
    "### Scape the individual Car main pages"
   ]
  },
  {
   "cell_type": "code",
   "execution_count": 638,
   "metadata": {},
   "outputs": [],
   "source": [
    "with open('./data/URL_Links_All.pkl', 'rb') as picklefile: \n",
    "    links = pickle.load(picklefile)"
   ]
  },
  {
   "cell_type": "code",
   "execution_count": 646,
   "metadata": {},
   "outputs": [],
   "source": [
    "individual_links = [\"https://www.carmax.com/car/\"+x.split(\"/\")[4]+\"#ratingsReviews\" for x in links]"
   ]
  },
  {
   "cell_type": "code",
   "execution_count": 649,
   "metadata": {},
   "outputs": [],
   "source": [
    "subset = individual_links[0:20]"
   ]
  },
  {
   "cell_type": "code",
   "execution_count": null,
   "metadata": {},
   "outputs": [],
   "source": [
    "driver = webdriver.Chrome(chromedriver)\n",
    "driver.get(\"https://www.carmax.com/car/16061803\")"
   ]
  },
  {
   "cell_type": "code",
   "execution_count": 596,
   "metadata": {},
   "outputs": [],
   "source": [
    "def find_classes(URL, classname_function_dict):\n",
    "    driver.get(URL)\n",
    "    review_button = driver.find_element_by_xpath('//a[@class=\"kmx-button kmx-button--secondary kmx-button--large kmx-button--raised\"]')\n",
    "    review_button.click()\n",
    "    result = {}\n",
    "    for classname in sorted(classname_function_dict.keys()):\n",
    "        result[classname] = driver.find_elements_by_class_name(classname)\n",
    "    return result"
   ]
  },
  {
   "cell_type": "code",
   "execution_count": 597,
   "metadata": {},
   "outputs": [],
   "source": [
    "testurl = 'https://www.carmax.com/car/16061803'\n",
    "testurl = 'https://www.carmax.com/car/16104605'"
   ]
  },
  {
   "cell_type": "code",
   "execution_count": 624,
   "metadata": {},
   "outputs": [],
   "source": []
  },
  {
   "cell_type": "code",
   "execution_count": 315,
   "metadata": {},
   "outputs": [],
   "source": [
    "result = find_classes(testurl, classname_function_dict)"
   ]
  },
  {
   "cell_type": "code",
   "execution_count": 569,
   "metadata": {},
   "outputs": [],
   "source": [
    "def process_mileage_value(input):\n",
    "    price = (input[0]\n",
    "                 .text\n",
    "                 .replace('$','')\n",
    "                 .replace('*','')\n",
    "                 .replace(',',''))\n",
    "    mileage = (input[1]\n",
    "                 .text\n",
    "                 .replace('K',''))\n",
    "    return [price, mileage]"
   ]
  },
  {
   "cell_type": "code",
   "execution_count": 570,
   "metadata": {},
   "outputs": [],
   "source": [
    "def process_year_make(input):\n",
    "    splited = input[0].text.split(' ')\n",
    "    year = splited[0]\n",
    "    brand = splited[1]\n",
    "    return [year, brand]"
   ]
  },
  {
   "cell_type": "code",
   "execution_count": 571,
   "metadata": {},
   "outputs": [],
   "source": [
    "def process_min(input):\n",
    "    return [input[0].text]"
   ]
  },
  {
   "cell_type": "code",
   "execution_count": 626,
   "metadata": {},
   "outputs": [],
   "source": [
    "def process_location(input):\n",
    "    if(len(input) == 0):\n",
    "        return ['N/A']\n",
    "    else:\n",
    "        return [input[0].text]"
   ]
  },
  {
   "cell_type": "code",
   "execution_count": 572,
   "metadata": {},
   "outputs": [],
   "source": [
    "def process_image_count(input):\n",
    "    return [int(input[0].text.split(\" \")[2])]"
   ]
  },
  {
   "cell_type": "code",
   "execution_count": 573,
   "metadata": {},
   "outputs": [],
   "source": [
    "def process_stock_vin(input):\n",
    "    splited = input[0].text.split(\"|\")\n",
    "    stock = splited[0].split(\" \")[2]\n",
    "    vin = splited[1].split(\" \")[2]\n",
    "    return [stock, vin]"
   ]
  },
  {
   "cell_type": "code",
   "execution_count": 574,
   "metadata": {},
   "outputs": [],
   "source": [
    "def process_city_highway(input):\n",
    "    splited = input[0].text.split(\"\\n\")\n",
    "    city = splited[0]\n",
    "    highway = splited[2]\n",
    "    return [city, highway]"
   ]
  },
  {
   "cell_type": "code",
   "execution_count": 575,
   "metadata": {},
   "outputs": [],
   "source": [
    "def process_base_spec(input):\n",
    "    color = input[0].text.split(\"\\n\")\n",
    "    exterior = color[1].split(\" \")[1]\n",
    "    interior = color[2].split(\" \")[1]\n",
    "    basespec = input[1].text.split(\"\\n\")\n",
    "    transmission = basespec[1].split(\" \")[1]\n",
    "    drive = basespec[2].split(\" \")[1]\n",
    "    engine = basespec[3].split(\" \")[1].replace(\"L\",\"\")\n",
    "    cylinder = basespec[4].split(\" \")[1]\n",
    "    horsepower = basespec[5].split(\" \")[1]\n",
    "    torque = basespec[6].split(\" \")[1]\n",
    "    return [exterior, interior, transmission, drive, engine, cylinder, horsepower, torque]"
   ]
  },
  {
   "cell_type": "code",
   "execution_count": 576,
   "metadata": {},
   "outputs": [],
   "source": [
    "def process_user_rating(input):\n",
    "    user_star_5 = int(input[0].text.split(\"\\n\")[1])\n",
    "    user_star_4 = int(input[1].text.split(\"\\n\")[1])\n",
    "    user_star_3 = int(input[2].text.split(\"\\n\")[1])\n",
    "    user_star_2 = int(input[3].text.split(\"\\n\")[1])\n",
    "    user_star_1 = int(input[4].text.split(\"\\n\")[1])\n",
    "    return [user_star_5, user_star_4, user_star_3, user_star_2, user_star_1]"
   ]
  },
  {
   "cell_type": "code",
   "execution_count": 651,
   "metadata": {},
   "outputs": [],
   "source": [
    "classname_function_dict = {\n",
    "    \"car-page-header__car-title__year-make\":process_year_make,\n",
    "    \"car-page-header__car-title__model-trim\":process_min,\n",
    "    \"price-mileage--value\":process_mileage_value,\n",
    "    \"action-bar--image-counter\":process_image_count,\n",
    "    \"store-information--location\":process_location,\n",
    "    \"about-this-car--header__subtitle\":process_stock_vin,\n",
    "    \"gas-mileage-container\":process_city_highway,\n",
    "    \"kmx-table\":process_base_spec,\n",
    "    \"linear-rating\":process_user_rating\n",
    "}"
   ]
  },
  {
   "cell_type": "code",
   "execution_count": 620,
   "metadata": {},
   "outputs": [],
   "source": [
    "def get_car_basics(URL_lists, classname_function_dict):\n",
    "    result = []\n",
    "    for URL in URL_lists:\n",
    "        driver = webdriver.Chrome(chromedriver)\n",
    "        driver.get(URL)\n",
    "        time.sleep(5)\n",
    "        review_button = driver.find_element_by_xpath('//a[@class=\"kmx-button kmx-button--secondary kmx-button--large kmx-button--raised\"]')\n",
    "        review_button.click()\n",
    "        time.sleep(2)\n",
    "        record = []\n",
    "        for classname in sorted(classname_function_dict.keys()):\n",
    "            element = driver.find_elements_by_class_name(classname)\n",
    "            # print (classname)\n",
    "            record = record + (classname_function_dict[classname](element))\n",
    "            # print (record)\n",
    "        result.append(record)\n",
    "        driver.close()\n",
    "    return result"
   ]
  },
  {
   "cell_type": "code",
   "execution_count": 621,
   "metadata": {},
   "outputs": [],
   "source": [
    "URL_lists = [\n",
    " 'https://www.carmax.com/car/15086949',\n",
    " 'https://www.carmax.com/car/15585428',\n",
    " 'https://www.carmax.com/car/15895613',\n",
    " 'https://www.carmax.com/car/15777631',\n",
    " 'https://www.carmax.com/car/16057238',\n",
    " 'https://www.carmax.com/car/15867327',\n",
    " 'https://www.carmax.com/car/16056848',\n",
    " 'https://www.carmax.com/car/15867099',\n",
    " 'https://www.carmax.com/car/15867057']"
   ]
  },
  {
   "cell_type": "code",
   "execution_count": 625,
   "metadata": {},
   "outputs": [
    {
     "name": "stdout",
     "output_type": "stream",
     "text": [
      "about-this-car--header__subtitle\n",
      "['15086949', 'WAUCFAFC5DN062406']\n",
      "action-bar--image-counter\n",
      "['15086949', 'WAUCFAFC5DN062406', 21]\n",
      "car-page-header__car-title__model-trim\n",
      "['15086949', 'WAUCFAFC5DN062406', 21, 'A6 Premium']\n",
      "car-page-header__car-title__year-make\n",
      "['15086949', 'WAUCFAFC5DN062406', 21, 'A6 Premium', '2013', 'Audi']\n",
      "gas-mileage-container\n",
      "['15086949', 'WAUCFAFC5DN062406', 21, 'A6 Premium', '2013', 'Audi', '25', '33']\n",
      "kmx-table\n",
      "['15086949', 'WAUCFAFC5DN062406', 21, 'A6 Premium', '2013', 'Audi', '25', '33', 'White', 'Black', 'Automatic', '2WD', '2.0', '4', '211', '258']\n",
      "linear-rating\n",
      "['15086949', 'WAUCFAFC5DN062406', 21, 'A6 Premium', '2013', 'Audi', '25', '33', 'White', 'Black', 'Automatic', '2WD', '2.0', '4', '211', '258', 2, 0, 0, 0, 1]\n",
      "price-mileage--value\n",
      "['15086949', 'WAUCFAFC5DN062406', 21, 'A6 Premium', '2013', 'Audi', '25', '33', 'White', 'Black', 'Automatic', '2WD', '2.0', '4', '211', '258', 2, 0, 0, 0, 1, '19998', '59']\n",
      "store-information--location\n",
      "['15086949', 'WAUCFAFC5DN062406', 21, 'A6 Premium', '2013', 'Audi', '25', '33', 'White', 'Black', 'Automatic', '2WD', '2.0', '4', '211', '258', 2, 0, 0, 0, 1, '19998', '59', 'San Francisco, CA']\n",
      "about-this-car--header__subtitle\n",
      "['15585428', 'WAUFFAFC4FN002634']\n",
      "action-bar--image-counter\n",
      "['15585428', 'WAUFFAFC4FN002634', 20]\n",
      "car-page-header__car-title__model-trim\n",
      "['15585428', 'WAUFFAFC4FN002634', 20, 'A6 Premium']\n",
      "car-page-header__car-title__year-make\n",
      "['15585428', 'WAUFFAFC4FN002634', 20, 'A6 Premium', '2015', 'Audi']\n",
      "gas-mileage-container\n",
      "['15585428', 'WAUFFAFC4FN002634', 20, 'A6 Premium', '2015', 'Audi', '20', '29']\n",
      "kmx-table\n",
      "['15585428', 'WAUFFAFC4FN002634', 20, 'A6 Premium', '2015', 'Audi', '20', '29', 'Gray', 'n/a', 'Automatic', '4WD', '2.0', '4', '220', '258']\n",
      "linear-rating\n",
      "['15585428', 'WAUFFAFC4FN002634', 20, 'A6 Premium', '2015', 'Audi', '20', '29', 'Gray', 'n/a', 'Automatic', '4WD', '2.0', '4', '220', '258', 0, 1, 0, 0, 0]\n",
      "price-mileage--value\n",
      "['15585428', 'WAUFFAFC4FN002634', 20, 'A6 Premium', '2015', 'Audi', '20', '29', 'Gray', 'n/a', 'Automatic', '4WD', '2.0', '4', '220', '258', 0, 1, 0, 0, 0, '21998', '49']\n",
      "store-information--location\n",
      "['15585428', 'WAUFFAFC4FN002634', 20, 'A6 Premium', '2015', 'Audi', '20', '29', 'Gray', 'n/a', 'Automatic', '4WD', '2.0', '4', '220', '258', 0, 1, 0, 0, 0, '21998', '49', 'San Francisco, CA']\n",
      "about-this-car--header__subtitle\n",
      "['15895613', 'WAUGFAFC8FN045846']\n",
      "action-bar--image-counter\n",
      "['15895613', 'WAUGFAFC8FN045846', 21]\n",
      "car-page-header__car-title__model-trim\n",
      "['15895613', 'WAUGFAFC8FN045846', 21, 'A6 Premium Plus']\n",
      "car-page-header__car-title__year-make\n",
      "['15895613', 'WAUGFAFC8FN045846', 21, 'A6 Premium Plus', '2015', 'Audi']\n",
      "gas-mileage-container\n",
      "['15895613', 'WAUGFAFC8FN045846', 21, 'A6 Premium Plus', '2015', 'Audi', 'N/A', 'N/A']\n",
      "kmx-table\n",
      "['15895613', 'WAUGFAFC8FN045846', 21, 'A6 Premium Plus', '2015', 'Audi', 'N/A', 'N/A', 'Black', 'Black', 'Automatic', '4WD', '2.0', '4', '220', '258']\n",
      "linear-rating\n",
      "['15895613', 'WAUGFAFC8FN045846', 21, 'A6 Premium Plus', '2015', 'Audi', 'N/A', 'N/A', 'Black', 'Black', 'Automatic', '4WD', '2.0', '4', '220', '258', 0, 1, 0, 0, 0]\n",
      "price-mileage--value\n",
      "['15895613', 'WAUGFAFC8FN045846', 21, 'A6 Premium Plus', '2015', 'Audi', 'N/A', 'N/A', 'Black', 'Black', 'Automatic', '4WD', '2.0', '4', '220', '258', 0, 1, 0, 0, 0, 'N/A', '28']\n",
      "store-information--location\n",
      "This is executed\n",
      "['15895613', 'WAUGFAFC8FN045846', 21, 'A6 Premium Plus', '2015', 'Audi', 'N/A', 'N/A', 'Black', 'Black', 'Automatic', '4WD', '2.0', '4', '220', '258', 0, 1, 0, 0, 0, 'N/A', '28', 'Nothing']\n",
      "about-this-car--header__subtitle\n",
      "['15777631', 'WA1CNAFY2J2034233']\n",
      "action-bar--image-counter\n",
      "['15777631', 'WA1CNAFY2J2034233', 23]\n",
      "car-page-header__car-title__model-trim\n",
      "['15777631', 'WA1CNAFY2J2034233', 23, 'Q5 Prestige']\n",
      "car-page-header__car-title__year-make\n",
      "['15777631', 'WA1CNAFY2J2034233', 23, 'Q5 Prestige', '2018', 'Audi']\n",
      "gas-mileage-container\n",
      "['15777631', 'WA1CNAFY2J2034233', 23, 'Q5 Prestige', '2018', 'Audi', 'N/A', 'N/A']\n",
      "kmx-table\n",
      "['15777631', 'WA1CNAFY2J2034233', 23, 'Q5 Prestige', '2018', 'Audi', 'N/A', 'N/A', 'Blue', 'Black', 'Automatic', '4WD', '2.0', '4', '252', '273']\n",
      "linear-rating\n",
      "['15777631', 'WA1CNAFY2J2034233', 23, 'Q5 Prestige', '2018', 'Audi', 'N/A', 'N/A', 'Blue', 'Black', 'Automatic', '4WD', '2.0', '4', '252', '273', 0, 0, 0, 0, 0]\n",
      "price-mileage--value\n",
      "['15777631', 'WA1CNAFY2J2034233', 23, 'Q5 Prestige', '2018', 'Audi', 'N/A', 'N/A', 'Blue', 'Black', 'Automatic', '4WD', '2.0', '4', '252', '273', 0, 0, 0, 0, 0, 'N/A', '5']\n",
      "store-information--location\n",
      "This is executed\n",
      "['15777631', 'WA1CNAFY2J2034233', 23, 'Q5 Prestige', '2018', 'Audi', 'N/A', 'N/A', 'Blue', 'Black', 'Automatic', '4WD', '2.0', '4', '252', '273', 0, 0, 0, 0, 0, 'N/A', '5', 'Nothing']\n",
      "about-this-car--header__subtitle\n",
      "['16057238', 'WA1CGAFE5DD005155']\n",
      "action-bar--image-counter\n",
      "['16057238', 'WA1CGAFE5DD005155', 21]\n",
      "car-page-header__car-title__model-trim\n",
      "['16057238', 'WA1CGAFE5DD005155', 21, 'Q7 Premium']\n",
      "car-page-header__car-title__year-make\n",
      "['16057238', 'WA1CGAFE5DD005155', 21, 'Q7 Premium', '2013', 'Audi']\n",
      "gas-mileage-container\n",
      "['16057238', 'WA1CGAFE5DD005155', 21, 'Q7 Premium', '2013', 'Audi', '16', '22']\n",
      "kmx-table\n",
      "['16057238', 'WA1CGAFE5DD005155', 21, 'Q7 Premium', '2013', 'Audi', '16', '22', 'Blue', 'Brown', 'Automatic', '4WD', '3.0', '6', '280', '295']\n",
      "linear-rating\n",
      "['16057238', 'WA1CGAFE5DD005155', 21, 'Q7 Premium', '2013', 'Audi', '16', '22', 'Blue', 'Brown', 'Automatic', '4WD', '3.0', '6', '280', '295', 1, 2, 0, 0, 0]\n",
      "price-mileage--value\n",
      "['16057238', 'WA1CGAFE5DD005155', 21, 'Q7 Premium', '2013', 'Audi', '16', '22', 'Blue', 'Brown', 'Automatic', '4WD', '3.0', '6', '280', '295', 1, 2, 0, 0, 0, '25998', '51']\n",
      "store-information--location\n",
      "['16057238', 'WA1CGAFE5DD005155', 21, 'Q7 Premium', '2013', 'Audi', '16', '22', 'Blue', 'Brown', 'Automatic', '4WD', '3.0', '6', '280', '295', 1, 2, 0, 0, 0, '25998', '51', 'San Francisco, CA']\n",
      "about-this-car--header__subtitle\n",
      "['15867327', 'WA1CGAFP0EA038617']\n",
      "action-bar--image-counter\n",
      "['15867327', 'WA1CGAFP0EA038617', 22]\n",
      "car-page-header__car-title__model-trim\n",
      "['15867327', 'WA1CGAFP0EA038617', 22, 'SQ5 Premium Plus']\n",
      "car-page-header__car-title__year-make\n",
      "['15867327', 'WA1CGAFP0EA038617', 22, 'SQ5 Premium Plus', '2014', 'Audi']\n",
      "gas-mileage-container\n",
      "['15867327', 'WA1CGAFP0EA038617', 22, 'SQ5 Premium Plus', '2014', 'Audi', '16', '23']\n",
      "kmx-table\n",
      "['15867327', 'WA1CGAFP0EA038617', 22, 'SQ5 Premium Plus', '2014', 'Audi', '16', '23', 'Gray', 'Black', 'Automatic', '4WD', '3.0', '6', '354', '347']\n",
      "linear-rating\n",
      "['15867327', 'WA1CGAFP0EA038617', 22, 'SQ5 Premium Plus', '2014', 'Audi', '16', '23', 'Gray', 'Black', 'Automatic', '4WD', '3.0', '6', '354', '347', 4, 0, 0, 0, 0]\n",
      "price-mileage--value\n",
      "['15867327', 'WA1CGAFP0EA038617', 22, 'SQ5 Premium Plus', '2014', 'Audi', '16', '23', 'Gray', 'Black', 'Automatic', '4WD', '3.0', '6', '354', '347', 4, 0, 0, 0, 0, '33998', '35']\n",
      "store-information--location\n",
      "['15867327', 'WA1CGAFP0EA038617', 22, 'SQ5 Premium Plus', '2014', 'Audi', '16', '23', 'Gray', 'Black', 'Automatic', '4WD', '3.0', '6', '354', '347', 4, 0, 0, 0, 0, '33998', '35', 'San Francisco, CA']\n",
      "about-this-car--header__subtitle\n",
      "['16056848', 'WBAUN1C55DVR01497']\n",
      "action-bar--image-counter\n",
      "['16056848', 'WBAUN1C55DVR01497', 20]\n",
      "car-page-header__car-title__model-trim\n",
      "['16056848', 'WBAUN1C55DVR01497', 20, '128 I']\n",
      "car-page-header__car-title__year-make\n",
      "['16056848', 'WBAUN1C55DVR01497', 20, '128 I', '2013', 'BMW']\n",
      "gas-mileage-container\n",
      "['16056848', 'WBAUN1C55DVR01497', 20, '128 I', '2013', 'BMW', '18', '27']\n",
      "kmx-table\n",
      "['16056848', 'WBAUN1C55DVR01497', 20, '128 I', '2013', 'BMW', '18', '27', 'Black', 'Tan', 'Automatic', '2WD', '3.0', '6', '230', '200']\n",
      "linear-rating\n",
      "['16056848', 'WBAUN1C55DVR01497', 20, '128 I', '2013', 'BMW', '18', '27', 'Black', 'Tan', 'Automatic', '2WD', '3.0', '6', '230', '200', 11, 0, 0, 0, 0]\n",
      "price-mileage--value\n",
      "['16056848', 'WBAUN1C55DVR01497', 20, '128 I', '2013', 'BMW', '18', '27', 'Black', 'Tan', 'Automatic', '2WD', '3.0', '6', '230', '200', 11, 0, 0, 0, 0, '20998', '26']\n",
      "store-information--location\n",
      "['16056848', 'WBAUN1C55DVR01497', 20, '128 I', '2013', 'BMW', '18', '27', 'Black', 'Tan', 'Automatic', '2WD', '3.0', '6', '230', '200', 11, 0, 0, 0, 0, '20998', '26', 'San Francisco, CA']\n"
     ]
    },
    {
     "name": "stdout",
     "output_type": "stream",
     "text": [
      "about-this-car--header__subtitle\n",
      "['15867099', 'WBA2F9C31HV984059']\n",
      "action-bar--image-counter\n",
      "['15867099', 'WBA2F9C31HV984059', 22]\n",
      "car-page-header__car-title__model-trim\n",
      "['15867099', 'WBA2F9C31HV984059', 22, '230 I']\n",
      "car-page-header__car-title__year-make\n",
      "['15867099', 'WBA2F9C31HV984059', 22, '230 I', '2017', 'BMW']\n",
      "gas-mileage-container\n",
      "['15867099', 'WBA2F9C31HV984059', 22, '230 I', '2017', 'BMW', '24', '35']\n",
      "kmx-table\n",
      "['15867099', 'WBA2F9C31HV984059', 22, '230 I', '2017', 'BMW', '24', '35', 'Gray', 'Black', 'Automatic', '2WD', '2.0', '4', '248', '258']\n",
      "linear-rating\n",
      "['15867099', 'WBA2F9C31HV984059', 22, '230 I', '2017', 'BMW', '24', '35', 'Gray', 'Black', 'Automatic', '2WD', '2.0', '4', '248', '258', 0, 0, 0, 0, 0]\n",
      "price-mileage--value\n",
      "['15867099', 'WBA2F9C31HV984059', 22, '230 I', '2017', 'BMW', '24', '35', 'Gray', 'Black', 'Automatic', '2WD', '2.0', '4', '248', '258', 0, 0, 0, 0, 0, '28998', '16']\n",
      "store-information--location\n",
      "['15867099', 'WBA2F9C31HV984059', 22, '230 I', '2017', 'BMW', '24', '35', 'Gray', 'Black', 'Automatic', '2WD', '2.0', '4', '248', '258', 0, 0, 0, 0, 0, '28998', '16', 'San Francisco, CA']\n",
      "about-this-car--header__subtitle\n",
      "['15867057', 'WBA8E1G54HNU15328']\n",
      "action-bar--image-counter\n",
      "['15867057', 'WBA8E1G54HNU15328', 21]\n",
      "car-page-header__car-title__model-trim\n",
      "['15867057', 'WBA8E1G54HNU15328', 21, '320 I']\n",
      "car-page-header__car-title__year-make\n",
      "['15867057', 'WBA8E1G54HNU15328', 21, '320 I', '2017', 'BMW']\n",
      "gas-mileage-container\n",
      "['15867057', 'WBA8E1G54HNU15328', 21, '320 I', '2017', 'BMW', 'N/A', 'N/A']\n",
      "kmx-table\n",
      "['15867057', 'WBA8E1G54HNU15328', 21, '320 I', '2017', 'BMW', 'N/A', 'N/A', 'Black', 'Black', 'Automatic', '2WD', '2.0', '4', '180', '200']\n",
      "linear-rating\n",
      "['15867057', 'WBA8E1G54HNU15328', 21, '320 I', '2017', 'BMW', 'N/A', 'N/A', 'Black', 'Black', 'Automatic', '2WD', '2.0', '4', '180', '200', 0, 0, 0, 0, 0]\n",
      "price-mileage--value\n",
      "['15867057', 'WBA8E1G54HNU15328', 21, '320 I', '2017', 'BMW', 'N/A', 'N/A', 'Black', 'Black', 'Automatic', '2WD', '2.0', '4', '180', '200', 0, 0, 0, 0, 0, 'N/A', '14']\n",
      "store-information--location\n",
      "This is executed\n",
      "['15867057', 'WBA8E1G54HNU15328', 21, '320 I', '2017', 'BMW', 'N/A', 'N/A', 'Black', 'Black', 'Automatic', '2WD', '2.0', '4', '180', '200', 0, 0, 0, 0, 0, 'N/A', '14', 'Nothing']\n"
     ]
    }
   ],
   "source": [
    "start_time = timeit.default_timer()\n",
    "\n",
    "result = get_car_basics(URL_lists, classname_function_dict)\n",
    "\n",
    "elapsed = timeit.default_timer() - start_time"
   ]
  },
  {
   "cell_type": "code",
   "execution_count": 629,
   "metadata": {},
   "outputs": [
    {
     "data": {
      "text/plain": [
       "118.49955037800828"
      ]
     },
     "execution_count": 629,
     "metadata": {},
     "output_type": "execute_result"
    }
   ],
   "source": [
    "elapsed"
   ]
  },
  {
   "cell_type": "code",
   "execution_count": 587,
   "metadata": {},
   "outputs": [],
   "source": [
    "URL = \"https://www.carmax.com/car/16169822#ratingsReviews\"\n",
    "driver = webdriver.Chrome(chromedriver)\n",
    "driver.get(URL)\n",
    "element = driver.find_elements_by_class_name(\"store-information--location\")"
   ]
  },
  {
   "cell_type": "code",
   "execution_count": 590,
   "metadata": {},
   "outputs": [
    {
     "data": {
      "text/plain": [
       "False"
      ]
     },
     "execution_count": 590,
     "metadata": {},
     "output_type": "execute_result"
    }
   ],
   "source": [
    "len(element) is None"
   ]
  },
  {
   "cell_type": "code",
   "execution_count": 601,
   "metadata": {},
   "outputs": [
    {
     "data": {
      "text/html": [
       "<div>\n",
       "<style scoped>\n",
       "    .dataframe tbody tr th:only-of-type {\n",
       "        vertical-align: middle;\n",
       "    }\n",
       "\n",
       "    .dataframe tbody tr th {\n",
       "        vertical-align: top;\n",
       "    }\n",
       "\n",
       "    .dataframe thead th {\n",
       "        text-align: right;\n",
       "    }\n",
       "</style>\n",
       "<table border=\"1\" class=\"dataframe\">\n",
       "  <thead>\n",
       "    <tr style=\"text-align: right;\">\n",
       "      <th></th>\n",
       "      <th>0</th>\n",
       "      <th>1</th>\n",
       "      <th>2</th>\n",
       "      <th>3</th>\n",
       "      <th>4</th>\n",
       "      <th>5</th>\n",
       "      <th>6</th>\n",
       "      <th>7</th>\n",
       "      <th>8</th>\n",
       "      <th>9</th>\n",
       "      <th>...</th>\n",
       "      <th>14</th>\n",
       "      <th>15</th>\n",
       "      <th>16</th>\n",
       "      <th>17</th>\n",
       "      <th>18</th>\n",
       "      <th>19</th>\n",
       "      <th>20</th>\n",
       "      <th>21</th>\n",
       "      <th>22</th>\n",
       "      <th>23</th>\n",
       "    </tr>\n",
       "  </thead>\n",
       "  <tbody>\n",
       "    <tr>\n",
       "      <th>0</th>\n",
       "      <td>15879910</td>\n",
       "      <td>19UDE2F71GA000579</td>\n",
       "      <td>22</td>\n",
       "      <td>ILX</td>\n",
       "      <td>2016</td>\n",
       "      <td>Acura</td>\n",
       "      <td>25</td>\n",
       "      <td>35</td>\n",
       "      <td>Silver</td>\n",
       "      <td>Black</td>\n",
       "      <td>...</td>\n",
       "      <td>201</td>\n",
       "      <td>180</td>\n",
       "      <td>1</td>\n",
       "      <td>0</td>\n",
       "      <td>0</td>\n",
       "      <td>0</td>\n",
       "      <td>0</td>\n",
       "      <td>21998</td>\n",
       "      <td>25</td>\n",
       "      <td>San Francisco, CA</td>\n",
       "    </tr>\n",
       "    <tr>\n",
       "      <th>1</th>\n",
       "      <td>16061803</td>\n",
       "      <td>19UUA8F5XDA013730</td>\n",
       "      <td>23</td>\n",
       "      <td>TL</td>\n",
       "      <td>2013</td>\n",
       "      <td>Acura</td>\n",
       "      <td>20</td>\n",
       "      <td>29</td>\n",
       "      <td>White</td>\n",
       "      <td>Black</td>\n",
       "      <td>...</td>\n",
       "      <td>280</td>\n",
       "      <td>254</td>\n",
       "      <td>6</td>\n",
       "      <td>3</td>\n",
       "      <td>1</td>\n",
       "      <td>0</td>\n",
       "      <td>0</td>\n",
       "      <td>18998</td>\n",
       "      <td>42</td>\n",
       "      <td>San Francisco, CA</td>\n",
       "    </tr>\n",
       "  </tbody>\n",
       "</table>\n",
       "<p>2 rows × 24 columns</p>\n",
       "</div>"
      ],
      "text/plain": [
       "         0                  1   2    3     4      5   6   7       8      9   \\\n",
       "0  15879910  19UDE2F71GA000579  22  ILX  2016  Acura  25  35  Silver  Black   \n",
       "1  16061803  19UUA8F5XDA013730  23   TL  2013  Acura  20  29   White  Black   \n",
       "\n",
       "         ...           14   15  16  17  18  19  20     21  22  \\\n",
       "0        ...          201  180   1   0   0   0   0  21998  25   \n",
       "1        ...          280  254   6   3   1   0   0  18998  42   \n",
       "\n",
       "                  23  \n",
       "0  San Francisco, CA  \n",
       "1  San Francisco, CA  \n",
       "\n",
       "[2 rows x 24 columns]"
      ]
     },
     "execution_count": 601,
     "metadata": {},
     "output_type": "execute_result"
    }
   ],
   "source": [
    "pd.DataFrame(result)"
   ]
  },
  {
   "cell_type": "markdown",
   "metadata": {},
   "source": [
    "### Scape the recall page"
   ]
  },
  {
   "cell_type": "markdown",
   "metadata": {},
   "source": [
    "URL = \"https://www.nhtsa.gov/recalls?vin=4T1BK36B38U322693\" <br>\n",
    "Pages are guarded by robot detector"
   ]
  },
  {
   "cell_type": "markdown",
   "metadata": {},
   "source": [
    "### Scape the autocheck page"
   ]
  },
  {
   "cell_type": "code",
   "execution_count": 496,
   "metadata": {},
   "outputs": [],
   "source": [
    "driver = webdriver.Chrome(chromedriver)\n",
    "URL = \"https://www.carmax.com/car/15165784/vehicle-history\"\n",
    "driver.get(URL)"
   ]
  },
  {
   "cell_type": "code",
   "execution_count": 497,
   "metadata": {},
   "outputs": [],
   "source": [
    "check = driver.find_element_by_xpath(\"//table/tbody\")\n",
    "car_summary = check.text.split(\"\\n\")"
   ]
  },
  {
   "cell_type": "code",
   "execution_count": 440,
   "metadata": {},
   "outputs": [],
   "source": [
    "\n",
    "accident_check = car_summary[0].replace(\"Accident Check \", \"\")\n",
    "cal_owner = car_summary[1].replace(\"Calculated Owners \", \"\")\n",
    "problemcheck = car_summary[2].replace(\"Title and ProblemCheck \", \"\")\n",
    "odometer_check = car_summary[3].replace(\"OdometerCheck \", \"\")\n",
    "event_check = car_summary[4].replace(\"Use/EventCheck \", \"\")"
   ]
  },
  {
   "cell_type": "code",
   "execution_count": 498,
   "metadata": {},
   "outputs": [
    {
     "data": {
      "text/plain": [
       "6"
      ]
     },
     "execution_count": 498,
     "metadata": {},
     "output_type": "execute_result"
    }
   ],
   "source": [
    "len(car_summary)"
   ]
  },
  {
   "cell_type": "code",
   "execution_count": 513,
   "metadata": {},
   "outputs": [],
   "source": [
    "recall_check = car_summary[5]\n",
    "if(\"Open Safety Recalls\" in recall_check):\n",
    "    Open_recall = int(recall_check.replace(\"Open Safety Recalls Reported Recalls: \", \"\"))\n",
    "else:\n",
    "    open_recall = int(recall_check.replace(\"Reported Recalls: \", \"\"))"
   ]
  },
  {
   "cell_type": "code",
   "execution_count": null,
   "metadata": {},
   "outputs": [],
   "source": [
    "O"
   ]
  },
  {
   "cell_type": "code",
   "execution_count": 502,
   "metadata": {},
   "outputs": [],
   "source": [
    "link_lists = [\n",
    " 'https://www.carmax.com/car/15165784',\n",
    " 'https://www.carmax.com/car/15210066',\n",
    " 'https://www.carmax.com/car/15824549',\n",
    " 'https://www.carmax.com/car/15867329',\n",
    " 'https://www.carmax.com/car/15380380',\n",
    " 'https://www.carmax.com/car/15867035',\n",
    " 'https://www.carmax.com/car/15944508',\n",
    " 'https://www.carmax.com/car/16169822',\n",
    " 'https://www.carmax.com/car/15086949',\n",
    " 'https://www.carmax.com/car/15585428',\n",
    " 'https://www.carmax.com/car/15895613',\n",
    " 'https://www.carmax.com/car/15777631',\n",
    " 'https://www.carmax.com/car/16057238']"
   ]
  },
  {
   "cell_type": "code",
   "execution_count": 503,
   "metadata": {},
   "outputs": [],
   "source": [
    "car_id = [x.split(\"/\")[-1] for x in link_lists]"
   ]
  },
  {
   "cell_type": "code",
   "execution_count": 504,
   "metadata": {},
   "outputs": [],
   "source": [
    "car_history = [\"https://www.carmax.com/car/\"+element+\"/vehicle-history\" for element in car_id]"
   ]
  },
  {
   "cell_type": "code",
   "execution_count": 505,
   "metadata": {},
   "outputs": [
    {
     "data": {
      "text/plain": [
       "['https://www.carmax.com/car/15165784/vehicle-history',\n",
       " 'https://www.carmax.com/car/15210066/vehicle-history',\n",
       " 'https://www.carmax.com/car/15824549/vehicle-history',\n",
       " 'https://www.carmax.com/car/15867329/vehicle-history',\n",
       " 'https://www.carmax.com/car/15380380/vehicle-history',\n",
       " 'https://www.carmax.com/car/15867035/vehicle-history',\n",
       " 'https://www.carmax.com/car/15944508/vehicle-history',\n",
       " 'https://www.carmax.com/car/16169822/vehicle-history',\n",
       " 'https://www.carmax.com/car/15086949/vehicle-history',\n",
       " 'https://www.carmax.com/car/15585428/vehicle-history',\n",
       " 'https://www.carmax.com/car/15895613/vehicle-history',\n",
       " 'https://www.carmax.com/car/15777631/vehicle-history',\n",
       " 'https://www.carmax.com/car/16057238/vehicle-history']"
      ]
     },
     "execution_count": 505,
     "metadata": {},
     "output_type": "execute_result"
    }
   ],
   "source": [
    "car_history"
   ]
  },
  {
   "cell_type": "code",
   "execution_count": 515,
   "metadata": {},
   "outputs": [],
   "source": [
    "def get_carhistory(car_history):\n",
    "    result = []\n",
    "    for URL in car_history:\n",
    "        driver = webdriver.Chrome(chromedriver)\n",
    "        driver.get(URL)\n",
    "        time.sleep(2)\n",
    "        check = driver.find_element_by_xpath(\"//table/tbody\")\n",
    "        car_summary = check.text.split(\"\\n\")\n",
    "        \n",
    "        accident_check = car_summary[0].replace(\"Accident Check \", \"\")\n",
    "        if (accident_check == 'No Accidents Reported'):\n",
    "            accident_check = 1\n",
    "        else:\n",
    "            accident_check = int(accident_check.split(\": \")[1])\n",
    "            \n",
    "        cal_owner = car_summary[1].replace(\"Calculated Owners \", \"\")\n",
    "        if (cal_owner == \"Only One Owner\"):\n",
    "            cal_owner = 1\n",
    "        else:\n",
    "            cal_owner = int(cal_owner)\n",
    "            \n",
    "        problem_check = car_summary[2].replace(\"Title and ProblemCheck \", \"\")\n",
    "        if (problem_check == \"Your vehicle checks out!\"):\n",
    "            problem_check = 'OK'\n",
    "            \n",
    "        odometer_check = car_summary[3].replace(\"OdometerCheck \", \"\")\n",
    "        if (odometer_check == \"Your vehicle checks out!\"):\n",
    "            odometer_check = 'OK'\n",
    "            \n",
    "        event_check = car_summary[4].replace(\"Use/EventCheck \", \"\")\n",
    "        if(event_check == \"No vehicle use or event information reported\"):\n",
    "            event_check = 'OK'\n",
    "        \n",
    "        open_recall = 0\n",
    "        if(len(car_summary)==6):\n",
    "            recall_check = car_summary[5]\n",
    "            open_recall = int(recall_check.replace(\"Open Safety Recalls Reported Recalls: \", \"\"))\n",
    "            \n",
    "        result.append([accident_check,cal_owner,problem_check,odometer_check,event_check,open_recall])\n",
    "        driver.close()\n",
    "    return result"
   ]
  },
  {
   "cell_type": "code",
   "execution_count": 516,
   "metadata": {},
   "outputs": [],
   "source": [
    "result = get_carhistory(car_history)"
   ]
  },
  {
   "cell_type": "code",
   "execution_count": 517,
   "metadata": {},
   "outputs": [
    {
     "data": {
      "text/html": [
       "<div>\n",
       "<style scoped>\n",
       "    .dataframe tbody tr th:only-of-type {\n",
       "        vertical-align: middle;\n",
       "    }\n",
       "\n",
       "    .dataframe tbody tr th {\n",
       "        vertical-align: top;\n",
       "    }\n",
       "\n",
       "    .dataframe thead th {\n",
       "        text-align: right;\n",
       "    }\n",
       "</style>\n",
       "<table border=\"1\" class=\"dataframe\">\n",
       "  <thead>\n",
       "    <tr style=\"text-align: right;\">\n",
       "      <th></th>\n",
       "      <th>0</th>\n",
       "      <th>1</th>\n",
       "      <th>2</th>\n",
       "      <th>3</th>\n",
       "      <th>4</th>\n",
       "      <th>5</th>\n",
       "    </tr>\n",
       "  </thead>\n",
       "  <tbody>\n",
       "    <tr>\n",
       "      <th>0</th>\n",
       "      <td>1</td>\n",
       "      <td>1</td>\n",
       "      <td>OK</td>\n",
       "      <td>OK</td>\n",
       "      <td>Vehicle Use or event information available</td>\n",
       "      <td>1</td>\n",
       "    </tr>\n",
       "    <tr>\n",
       "      <th>1</th>\n",
       "      <td>1</td>\n",
       "      <td>1</td>\n",
       "      <td>OK</td>\n",
       "      <td>OK</td>\n",
       "      <td>Vehicle Use or event information available</td>\n",
       "      <td>0</td>\n",
       "    </tr>\n",
       "    <tr>\n",
       "      <th>2</th>\n",
       "      <td>1</td>\n",
       "      <td>1</td>\n",
       "      <td>OK</td>\n",
       "      <td>OK</td>\n",
       "      <td>OK</td>\n",
       "      <td>0</td>\n",
       "    </tr>\n",
       "    <tr>\n",
       "      <th>3</th>\n",
       "      <td>1</td>\n",
       "      <td>2</td>\n",
       "      <td>OK</td>\n",
       "      <td>OK</td>\n",
       "      <td>Vehicle Use or event information available</td>\n",
       "      <td>0</td>\n",
       "    </tr>\n",
       "    <tr>\n",
       "      <th>4</th>\n",
       "      <td>1</td>\n",
       "      <td>1</td>\n",
       "      <td>OK</td>\n",
       "      <td>OK</td>\n",
       "      <td>Vehicle Use or event information available</td>\n",
       "      <td>1</td>\n",
       "    </tr>\n",
       "    <tr>\n",
       "      <th>5</th>\n",
       "      <td>1</td>\n",
       "      <td>3</td>\n",
       "      <td>OK</td>\n",
       "      <td>OK</td>\n",
       "      <td>Vehicle Use or event information available</td>\n",
       "      <td>0</td>\n",
       "    </tr>\n",
       "    <tr>\n",
       "      <th>6</th>\n",
       "      <td>1</td>\n",
       "      <td>1</td>\n",
       "      <td>OK</td>\n",
       "      <td>OK</td>\n",
       "      <td>Vehicle Use or event information available</td>\n",
       "      <td>1</td>\n",
       "    </tr>\n",
       "    <tr>\n",
       "      <th>7</th>\n",
       "      <td>1</td>\n",
       "      <td>1</td>\n",
       "      <td>OK</td>\n",
       "      <td>OK</td>\n",
       "      <td>Vehicle Use or event information available</td>\n",
       "      <td>2</td>\n",
       "    </tr>\n",
       "    <tr>\n",
       "      <th>8</th>\n",
       "      <td>2</td>\n",
       "      <td>2</td>\n",
       "      <td>OK</td>\n",
       "      <td>OK</td>\n",
       "      <td>Vehicle Use or event information available</td>\n",
       "      <td>1</td>\n",
       "    </tr>\n",
       "    <tr>\n",
       "      <th>9</th>\n",
       "      <td>1</td>\n",
       "      <td>1</td>\n",
       "      <td>OK</td>\n",
       "      <td>OK</td>\n",
       "      <td>Vehicle Use or event information available</td>\n",
       "      <td>1</td>\n",
       "    </tr>\n",
       "    <tr>\n",
       "      <th>10</th>\n",
       "      <td>1</td>\n",
       "      <td>2</td>\n",
       "      <td>OK</td>\n",
       "      <td>OK</td>\n",
       "      <td>Vehicle Use or event information available</td>\n",
       "      <td>1</td>\n",
       "    </tr>\n",
       "    <tr>\n",
       "      <th>11</th>\n",
       "      <td>1</td>\n",
       "      <td>1</td>\n",
       "      <td>OK</td>\n",
       "      <td>OK</td>\n",
       "      <td>OK</td>\n",
       "      <td>0</td>\n",
       "    </tr>\n",
       "    <tr>\n",
       "      <th>12</th>\n",
       "      <td>1</td>\n",
       "      <td>4</td>\n",
       "      <td>OK</td>\n",
       "      <td>OK</td>\n",
       "      <td>Vehicle Use or event information available</td>\n",
       "      <td>0</td>\n",
       "    </tr>\n",
       "  </tbody>\n",
       "</table>\n",
       "</div>"
      ],
      "text/plain": [
       "    0  1   2   3                                           4  5\n",
       "0   1  1  OK  OK  Vehicle Use or event information available  1\n",
       "1   1  1  OK  OK  Vehicle Use or event information available  0\n",
       "2   1  1  OK  OK                                          OK  0\n",
       "3   1  2  OK  OK  Vehicle Use or event information available  0\n",
       "4   1  1  OK  OK  Vehicle Use or event information available  1\n",
       "5   1  3  OK  OK  Vehicle Use or event information available  0\n",
       "6   1  1  OK  OK  Vehicle Use or event information available  1\n",
       "7   1  1  OK  OK  Vehicle Use or event information available  2\n",
       "8   2  2  OK  OK  Vehicle Use or event information available  1\n",
       "9   1  1  OK  OK  Vehicle Use or event information available  1\n",
       "10  1  2  OK  OK  Vehicle Use or event information available  1\n",
       "11  1  1  OK  OK                                          OK  0\n",
       "12  1  4  OK  OK  Vehicle Use or event information available  0"
      ]
     },
     "execution_count": 517,
     "metadata": {},
     "output_type": "execute_result"
    }
   ],
   "source": [
    "pd.DataFrame(result)"
   ]
  },
  {
   "cell_type": "code",
   "execution_count": null,
   "metadata": {},
   "outputs": [],
   "source": []
  }
 ],
 "metadata": {
  "kernelspec": {
   "display_name": "Python 3",
   "language": "python",
   "name": "python3"
  },
  "language_info": {
   "codemirror_mode": {
    "name": "ipython",
    "version": 3
   },
   "file_extension": ".py",
   "mimetype": "text/x-python",
   "name": "python",
   "nbconvert_exporter": "python",
   "pygments_lexer": "ipython3",
   "version": "3.5.4"
  }
 },
 "nbformat": 4,
 "nbformat_minor": 2
}
